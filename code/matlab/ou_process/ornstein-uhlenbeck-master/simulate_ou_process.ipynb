{
 "cells": [
  {
   "cell_type": "code",
   "execution_count": 1,
   "id": "03484af4",
   "metadata": {},
   "outputs": [],
   "source": [
    "import numpy as np\n",
    "import ornstein_uhlenbeck as ou\n",
    "import matplotlib.pyplot as plt"
   ]
  },
  {
   "cell_type": "code",
   "execution_count": 6,
   "id": "1ddfc31f",
   "metadata": {},
   "outputs": [],
   "source": [
    "def simulate_ou(init_x, mu, sigma, theta, t):\n",
    "    T = len(t);\n",
    "    dt = t[1:] - t[:-1];\n",
    "    x = np.zeros_like(t);\n",
    "    x[0] = init_x;\n",
    "    #exp_minus_lambda_deltat = np.exp(-theta * dt);\n",
    "    #dWt = np.sqrt((1-np.exp(-2*l* deltat))/(2*l)) * np.random.normal(0,1,T);\n",
    "    \n",
    "    for i in range(1,T):\n",
    "        exp_minus_lambda_deltat = np.exp(-theta * dt[i-1]);\n",
    "        dWt = np.sqrt((1-np.exp(-2*theta*dt[i-1]))/(2*theta)) * np.random.normal(0,1);\n",
    "        x[i] = exp_minus_lambda_deltat * x[i-1] + \\\n",
    "            (1 - exp_minus_lambda_deltat) * mu + sigma * dWt;\n",
    "    return x"
   ]
  },
  {
   "cell_type": "code",
   "execution_count": 26,
   "id": "8e2a8bb1",
   "metadata": {},
   "outputs": [],
   "source": [
    "#  Code our distribution function\n",
    "def OU(x1, x2, dt, mu, sigma, theta):\n",
    "    sigma0 = sigma**2 * (1 - np.exp(-2*theta*dt)) / (2 * theta)\n",
    "    sigma0 = np.sqrt( sigma0 )\n",
    "    \n",
    "    prefactor = 1 / np.sqrt(2 * np.pi * sigma0**2)\n",
    "    \n",
    "    f =  prefactor * np.exp( -(x2 - x1 * np.exp(-theta*dt) - \\\n",
    "                    mu * (1-np.exp(-theta*dt)) )**2 / (2 * sigma0**2) )\n",
    "    \n",
    "    return f\n",
    "\n",
    "#  Calculate the negative of the log likelihood\n",
    "def log_likelihood_OU(p, X, dt):\n",
    "    \n",
    "    mu = p[0]\n",
    "    sigma = p[1]\n",
    "    theta = p[2]\n",
    "    \n",
    "    N = X.size\n",
    "    \n",
    "    f = np.zeros( (N-1, ) )\n",
    "    \n",
    "    for i in range( 1, N ):\n",
    "        x2 = X[i]\n",
    "        x1 = X[i-1]\n",
    "        \n",
    "        f[i-1] = OU(x1, x2, dt[i-1], mu, sigma, theta)\n",
    "    \n",
    "    ind = np.where(f == 0)\n",
    "    ind = ind[0]\n",
    "    if ind.size > 0:\n",
    "        f[ind] = 10**-8\n",
    "        \n",
    "    f = np.log(f)\n",
    "    f = np.sum(f)\n",
    "        \n",
    "    return -f\n",
    "\n",
    "def constraint1(p):\n",
    "    return p[1]\n",
    "\n",
    "def constraint2(p):\n",
    "    return p[2]\n"
   ]
  },
  {
   "cell_type": "code",
   "execution_count": 33,
   "id": "8f459216",
   "metadata": {},
   "outputs": [
    {
     "data": {
      "text/plain": [
       "[<matplotlib.lines.Line2D at 0x7fa46f654730>]"
      ]
     },
     "execution_count": 33,
     "metadata": {},
     "output_type": "execute_result"
    },
    {
     "data": {
      "image/png": "[encoded data removed]",
      "text/plain": [
       "<Figure size 432x288 with 1 Axes>"
      ]
     },
     "metadata": {
      "needs_background": "light"
     },
     "output_type": "display_data"
    }
   ],
   "source": [
    "# same sampling intervals\n",
    "t = np.arange(1,50, dtype=float)\n",
    "x = simulate_ou(1, 4, 1, 0.9, t)\n",
    "plt.plot(x)"
   ]
  },
  {
   "cell_type": "code",
   "execution_count": 34,
   "id": "ebdb6e07",
   "metadata": {},
   "outputs": [
    {
     "data": {
      "text/plain": [
       "     fun: 54.60288721494395\n",
       "     jac: array([ 2.28881836e-05, -1.02996826e-04,  2.57492065e-05])\n",
       " message: 'Optimization terminated successfully'\n",
       "    nfev: 93\n",
       "     nit: 19\n",
       "    njev: 19\n",
       "  status: 0\n",
       " success: True\n",
       "       x: array([4.13319038, 1.0797299 , 0.82792095])"
      ]
     },
     "execution_count": 34,
     "metadata": {},
     "output_type": "execute_result"
    }
   ],
   "source": [
    "from scipy.optimize import minimize\n",
    "#  Initial guess for our parameters\n",
    "p0 = [1, 1, 1]\n",
    "\n",
    "cons = ({'type':'ineq', 'fun': constraint1},\n",
    "         {'type':'ineq', 'fun': constraint2})\n",
    "#  Call minimize\n",
    "minimize(log_likelihood_OU, p0, args = (x, t[1:]-t[:-1]), constraints=cons)"
   ]
  },
  {
   "cell_type": "code",
   "execution_count": 37,
   "id": "640508cb",
   "metadata": {},
   "outputs": [
    {
     "data": {
      "text/plain": [
       "[<matplotlib.lines.Line2D at 0x7fa46f81dee0>]"
      ]
     },
     "execution_count": 37,
     "metadata": {},
     "output_type": "execute_result"
    },
    {
     "data": {
      "image/png": "[encoded data removed]",
      "text/plain": [
       "<Figure size 432x288 with 1 Axes>"
      ]
     },
     "metadata": {
      "needs_background": "light"
     },
     "output_type": "display_data"
    }
   ],
   "source": [
    "# unequal sampling intervals\n",
    "t = np.unique(np.sort(np.random.randint(1,1000,50))).astype(float)\n",
    "x = simulate_ou(1, 1, 1, 0.2, t)\n",
    "plt.plot(t,x, 'o')"
   ]
  },
  {
   "cell_type": "code",
   "execution_count": 38,
   "id": "a43384f9",
   "metadata": {},
   "outputs": [
    {
     "data": {
      "text/plain": [
       "     fun: 80.53359655218088\n",
       "     jac: array([-0.000494  , -0.0003891 , -0.00032234])\n",
       " message: 'Optimization terminated successfully'\n",
       "    nfev: 159\n",
       "     nit: 34\n",
       "    njev: 34\n",
       "  status: 0\n",
       " success: True\n",
       "       x: array([1.00160936, 1.04937774, 0.30196969])"
      ]
     },
     "execution_count": 38,
     "metadata": {},
     "output_type": "execute_result"
    }
   ],
   "source": [
    "from scipy.optimize import minimize\n",
    "#  Initial guess for our parameters\n",
    "p0 = [1, 1, 1]\n",
    "\n",
    "cons = ({'type':'ineq', 'fun': constraint1},\n",
    "         {'type':'ineq', 'fun': constraint2})\n",
    "\n",
    "#  Call minimize\n",
    "minimize(log_likelihood_OU, p0, args = (x, t[1:]-t[:-1]), constraints=cons)"
   ]
  },
  {
   "cell_type": "code",
   "execution_count": null,
   "id": "31a97551",
   "metadata": {},
   "outputs": [],
   "source": []
  }
 ],
 "metadata": {
  "kernelspec": {
   "display_name": "Python 3 (ipykernel)",
   "language": "python",
   "name": "python3"
  },
  "language_info": {
   "codemirror_mode": {
    "name": "ipython",
    "version": 3
   },
   "file_extension": ".py",
   "mimetype": "text/x-python",
   "name": "python",
   "nbconvert_exporter": "python",
   "pygments_lexer": "ipython3",
   "version": "3.8.12"
  }
 },
 "nbformat": 4,
 "nbformat_minor": 5
}
